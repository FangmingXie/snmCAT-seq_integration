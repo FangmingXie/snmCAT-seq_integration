{
 "cells": [
  {
   "cell_type": "code",
   "execution_count": 1,
   "metadata": {
    "ExecuteTime": {
     "end_time": "2021-02-09T06:17:57.778102Z",
     "start_time": "2021-02-09T06:17:57.131101Z"
    }
   },
   "outputs": [],
   "source": [
    "import rpy2\n",
    "import pandas as pd\n",
    "\n",
    "%load_ext rpy2.ipython"
   ]
  },
  {
   "cell_type": "code",
   "execution_count": 2,
   "metadata": {
    "ExecuteTime": {
     "end_time": "2021-02-09T06:18:00.443385Z",
     "start_time": "2021-02-09T06:17:57.779820Z"
    }
   },
   "outputs": [
    {
     "name": "stderr",
     "output_type": "stream",
     "text": [
      "R[write to console]: Attaching SeuratObject\n",
      "\n"
     ]
    }
   ],
   "source": [
    "%%R\n",
    "library(Seurat)\n",
    "library(Matrix)\n",
    "library(ggplot2)\n",
    "library(patchwork)"
   ]
  },
  {
   "cell_type": "code",
   "execution_count": 3,
   "metadata": {
    "ExecuteTime": {
     "end_time": "2021-02-09T06:21:18.133547Z",
     "start_time": "2021-02-09T06:18:00.444827Z"
    }
   },
   "outputs": [
    {
     "name": "stderr",
     "output_type": "stream",
     "text": [
      "R[write to console]: Warning:\n",
      "R[write to console]:  Feature names cannot have underscores ('_'), replacing with dashes ('-')\n",
      "\n"
     ]
    }
   ],
   "source": [
    "%%R\n",
    "metadata <- read.table(\"../mCTN/dataset/ForSeurat/Metadata.csv.gz\", \n",
    "                       sep=\",\", header = TRUE, row.names = 1)\n",
    "rna <- read.table(\"../mCTN/dataset/ForSeurat/RNA.gene_body.csv.gz\", sep=\",\", header = TRUE, row.names=1)\n",
    "rna <- t(as(object = as.matrix(rna), Class = \"dgCMatrix\"))\n",
    "\n",
    "# process RNA data\n",
    "rna.obj <- CreateSeuratObject(\n",
    "  counts = rna,\n",
    "  assay = \"RNA\",\n",
    "  project = \"mCT\",\n",
    "  meta.data = metadata,\n",
    "  min.features = 200,\n",
    "  min.cells = 10\n",
    ")\n",
    "saveRDS(rna.obj, file = \"mCT.RNA.rds\")"
   ]
  },
  {
   "cell_type": "code",
   "execution_count": 4,
   "metadata": {
    "ExecuteTime": {
     "end_time": "2021-02-09T06:32:57.625560Z",
     "start_time": "2021-02-09T06:21:18.135371Z"
    }
   },
   "outputs": [
    {
     "name": "stderr",
     "output_type": "stream",
     "text": [
      "R[write to console]: Warning:\n",
      "R[write to console]:  Feature names cannot have underscores ('_'), replacing with dashes ('-')\n",
      "\n"
     ]
    }
   ],
   "source": [
    "%%R\n",
    "hchn.frac <- read.table(\"../mCTN/dataset/ForSeurat/mC.HCHN.fraction.csv.gz\", sep=\",\", header = TRUE, row.names=1)\n",
    "hchn.frac <- t(as(object = as.matrix(hchn.frac), Class = \"dgCMatrix\"))\n",
    "\n",
    "# mCH data\n",
    "mc.obj <- CreateSeuratObject(\n",
    "  counts = -hchn.frac,\n",
    "  assay = \"mC\",\n",
    "  project = \"mC\",\n",
    "  meta.data = metadata\n",
    ")\n",
    "\n",
    "saveRDS(mc.obj, file = \"mCT.mCH_reverse.rds\")"
   ]
  },
  {
   "cell_type": "code",
   "execution_count": null,
   "metadata": {},
   "outputs": [],
   "source": []
  },
  {
   "cell_type": "code",
   "execution_count": null,
   "metadata": {},
   "outputs": [],
   "source": []
  },
  {
   "cell_type": "code",
   "execution_count": null,
   "metadata": {},
   "outputs": [],
   "source": []
  }
 ],
 "metadata": {
  "hide_input": false,
  "kernelspec": {
   "display_name": "Python 3",
   "language": "python",
   "name": "python3"
  },
  "language_info": {
   "codemirror_mode": {
    "name": "ipython",
    "version": 3
   },
   "file_extension": ".py",
   "mimetype": "text/x-python",
   "name": "python",
   "nbconvert_exporter": "python",
   "pygments_lexer": "ipython3",
   "version": "3.8.6"
  },
  "toc": {
   "base_numbering": 1,
   "nav_menu": {},
   "number_sections": true,
   "sideBar": true,
   "skip_h1_title": true,
   "title_cell": "Table of Contents",
   "title_sidebar": "Contents",
   "toc_cell": false,
   "toc_position": {},
   "toc_section_display": true,
   "toc_window_display": true
  }
 },
 "nbformat": 4,
 "nbformat_minor": 4
}
