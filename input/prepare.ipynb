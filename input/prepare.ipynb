{
 "cells": [
  {
   "cell_type": "code",
   "execution_count": 1,
   "metadata": {
    "ExecuteTime": {
     "end_time": "2021-02-19T08:06:17.613480Z",
     "start_time": "2021-02-19T08:06:16.939215Z"
    }
   },
   "outputs": [],
   "source": [
    "import anndata\n",
    "import xarray as xr\n",
    "import pandas as pd\n",
    "import scipy.sparse as ss\n",
    "import h5py"
   ]
  },
  {
   "cell_type": "code",
   "execution_count": 14,
   "metadata": {
    "ExecuteTime": {
     "end_time": "2021-02-19T08:13:02.573069Z",
     "start_time": "2021-02-19T08:13:02.549845Z"
    }
   },
   "outputs": [],
   "source": [
    "use_genes1 = pd.read_csv('Seurat_HVGs.txt', index_col=0).index\n",
    "use_genes1 = use_genes1.str.replace('-', '_')\n",
    "use_genes2 = pd.read_csv('SCF_hvgs.txt', index_col=0).index\n",
    "\n",
    "use_genes = use_genes1 | use_genes2\n",
    "use_genes.name = 'gene'"
   ]
  },
  {
   "cell_type": "code",
   "execution_count": 16,
   "metadata": {
    "ExecuteTime": {
     "end_time": "2021-02-19T08:13:11.190889Z",
     "start_time": "2021-02-19T08:13:11.082540Z"
    }
   },
   "outputs": [],
   "source": [
    "mch_meta = pd.read_csv('human_frontal_mch_metadata.tsv.gz', sep='\\t', index_col=0)\n",
    "mch_meta['cell_id'] = mch_meta.index.str[:-4]\n",
    "\n",
    "rna_meta = pd.read_csv('human_frontal_rna_metadata.tsv.gz', sep='\\t', index_col=0)\n",
    "rna_meta['cell_id'] = mch_meta.index.str[:-4]"
   ]
  },
  {
   "cell_type": "markdown",
   "metadata": {},
   "source": [
    "## RNA"
   ]
  },
  {
   "cell_type": "code",
   "execution_count": 18,
   "metadata": {
    "ExecuteTime": {
     "end_time": "2021-02-19T08:13:35.988979Z",
     "start_time": "2021-02-19T08:13:32.012290Z"
    }
   },
   "outputs": [],
   "source": [
    "mcds = xr.open_mfdataset('/home/hanliu/project/human_multiomic/mCTN/dataset/snmCT_*.withRNA.mcds', \n",
    "                         concat_dim='cell', combine='nested').squeeze()\n",
    "rna_data = mcds['rna_da'].load().sel(cell=rna_meta['cell_id'].values, gene=use_genes).to_pandas()"
   ]
  },
  {
   "cell_type": "code",
   "execution_count": 20,
   "metadata": {
    "ExecuteTime": {
     "end_time": "2021-02-19T08:13:48.869892Z",
     "start_time": "2021-02-19T08:13:46.519687Z"
    }
   },
   "outputs": [
    {
     "name": "stderr",
     "output_type": "stream",
     "text": [
      "... storing 'Technology' as categorical\n",
      "... storing 'Brain Region' as categorical\n",
      "... storing 'AD Index' as categorical\n",
      "... storing 'ClusterAnno' as categorical\n",
      "... storing 'MajorType' as categorical\n",
      "... storing 'SubMarker' as categorical\n",
      "... storing 'SubClusterAnno' as categorical\n",
      "... storing 'MajorMarker' as categorical\n",
      "... storing 'Individual ID' as categorical\n",
      "... storing 'Individual Label' as categorical\n",
      "... storing 'm3c_cluster' as categorical\n"
     ]
    },
    {
     "data": {
      "text/plain": [
       "AnnData object with n_obs × n_vars = 3898 × 6876\n",
       "    obs: 'Technology', 'Brain Region', 'AD Index', 'Total Methylome Reads', 'Overall Adjusted mCG%', 'Overall Adjusted mCH%', 'Overall mCCC%', 'tsne_0', 'tsne_1', 'umap_0', 'umap_1', 'pca_0', 'pca_1', 'pca_2', 'pca_3', 'MajorCluster', 'ClusterAnno', 'MajorType', 'SubClusterInternalID', 'subumap_0', 'subumap_1', 'subtsne_0', 'subtsne_1', 'SubMarker', 'SubClusterAnno', 'MajorMarker', 'Individual ID', 'Individual Label', 'Individual Age', 'm3c_cluster', 'cell_id'"
      ]
     },
     "execution_count": 20,
     "metadata": {},
     "output_type": "execute_result"
    }
   ],
   "source": [
    "rna_adata = anndata.AnnData(X=rna_data.values,\n",
    "                            obs=rna_meta,\n",
    "                            var=pd.DataFrame([], index=rna_data.columns))\n",
    "rna_adata.write_h5ad('rna_adata.h5ad', compression=True)\n",
    "rna_adata"
   ]
  },
  {
   "cell_type": "markdown",
   "metadata": {},
   "source": [
    "## mC Frac"
   ]
  },
  {
   "cell_type": "code",
   "execution_count": 26,
   "metadata": {
    "ExecuteTime": {
     "end_time": "2021-02-19T08:14:54.518302Z",
     "start_time": "2021-02-19T08:14:50.661952Z"
    }
   },
   "outputs": [],
   "source": [
    "mcds = xr.open_mfdataset(\n",
    "    '/home/hanliu/project/human_multiomic/mCTN/dataset/ForSeurat/gene_frac/snmCT_*.withRNA.mcdsgene_da_rate.nc',\n",
    "    concat_dim='cell',\n",
    "    combine='nested').squeeze()\n",
    "mch_data = mcds.sel(mc_type='HCHN')['gene_da_rate'].load().sel(\n",
    "    cell=mch_meta['cell_id'].values, gene=mcds.get_index('gene') & use_genes).to_pandas()"
   ]
  },
  {
   "cell_type": "code",
   "execution_count": 27,
   "metadata": {
    "ExecuteTime": {
     "end_time": "2021-02-19T08:15:06.563553Z",
     "start_time": "2021-02-19T08:15:02.382024Z"
    }
   },
   "outputs": [
    {
     "name": "stderr",
     "output_type": "stream",
     "text": [
      "... storing 'Technology' as categorical\n",
      "... storing 'Brain Region' as categorical\n",
      "... storing 'AD Index' as categorical\n",
      "... storing 'ClusterAnno' as categorical\n",
      "... storing 'MajorType' as categorical\n",
      "... storing 'SubMarker' as categorical\n",
      "... storing 'SubClusterAnno' as categorical\n",
      "... storing 'MajorMarker' as categorical\n",
      "... storing 'Individual ID' as categorical\n",
      "... storing 'Individual Label' as categorical\n",
      "... storing 'm3c_cluster' as categorical\n"
     ]
    },
    {
     "data": {
      "text/plain": [
       "AnnData object with n_obs × n_vars = 3898 × 6771\n",
       "    obs: 'Technology', 'Brain Region', 'AD Index', 'Total Methylome Reads', 'Overall Adjusted mCG%', 'Overall Adjusted mCH%', 'Overall mCCC%', 'tsne_0', 'tsne_1', 'umap_0', 'umap_1', 'pca_0', 'pca_1', 'pca_2', 'pca_3', 'MajorCluster', 'ClusterAnno', 'MajorType', 'SubClusterInternalID', 'subumap_0', 'subumap_1', 'subtsne_0', 'subtsne_1', 'SubMarker', 'SubClusterAnno', 'MajorMarker', 'Individual ID', 'Individual Label', 'Individual Age', 'm3c_cluster', 'cell_id'"
      ]
     },
     "execution_count": 27,
     "metadata": {},
     "output_type": "execute_result"
    }
   ],
   "source": [
    "mch_adata = anndata.AnnData(X=mch_data.values,\n",
    "                            obs=mch_meta,\n",
    "                            var=pd.DataFrame([], index=mch_data.columns))\n",
    "mch_adata.write_h5ad('mch_adata.h5ad', compression=True)\n",
    "mch_adata"
   ]
  },
  {
   "cell_type": "markdown",
   "metadata": {},
   "source": [
    "## Prepare LIGER"
   ]
  },
  {
   "cell_type": "code",
   "execution_count": 7,
   "metadata": {
    "ExecuteTime": {
     "end_time": "2021-02-14T22:14:31.606672Z",
     "start_time": "2021-02-14T22:14:26.151134Z"
    }
   },
   "outputs": [
    {
     "data": {
      "text/plain": [
       "Index(['ENSG00000001084.11_4', 'ENSG00000001460.17_3', 'ENSG00000001461.16_2',\n",
       "       'ENSG00000001626.14_3', 'ENSG00000001629.9_3', 'ENSG00000002587.9_3',\n",
       "       'ENSG00000002746.14_3', 'ENSG00000002822.15_3', 'ENSG00000003096.14_4',\n",
       "       'ENSG00000003137.8_2',\n",
       "       ...\n",
       "       'ENSG00000285090.1_1', 'ENSG00000285095.1_1', 'ENSG00000285283.1_1',\n",
       "       'ENSG00000285382.1_1', 'ENSG00000285404.1_1', 'ENSG00000285446.1_1',\n",
       "       'ENSG00000285454.1_1', 'ENSG00000285467.1_1', 'ENSG00000285476.1_1',\n",
       "       'ENSG00000285509.1_1'],\n",
       "      dtype='object', name='gene', length=5107)"
      ]
     },
     "execution_count": 7,
     "metadata": {},
     "output_type": "execute_result"
    }
   ],
   "source": [
    "use_genes = pd.read_csv('../input_archive/human_frontal_mch_hvfeatures.reverse.tsv.gz', \n",
    "                        index_col=0, sep='\\t').index\n",
    "use_genes.name = 'gene'\n",
    "use_genes"
   ]
  },
  {
   "cell_type": "code",
   "execution_count": 8,
   "metadata": {
    "ExecuteTime": {
     "end_time": "2021-02-14T22:14:33.159729Z",
     "start_time": "2021-02-14T22:14:31.607879Z"
    }
   },
   "outputs": [],
   "source": [
    "rna_adata = anndata.read_h5ad('rna_adata.h5ad')\n",
    "mc_adata = anndata.read_h5ad('mch_adata.h5ad')"
   ]
  },
  {
   "cell_type": "code",
   "execution_count": 9,
   "metadata": {
    "ExecuteTime": {
     "end_time": "2021-02-14T22:14:34.347865Z",
     "start_time": "2021-02-14T22:14:34.328652Z"
    }
   },
   "outputs": [
    {
     "data": {
      "text/plain": [
       "Index(['ENSG00000001084.11_4', 'ENSG00000001460.17_3', 'ENSG00000001461.16_2',\n",
       "       'ENSG00000001626.14_3', 'ENSG00000001629.9_3', 'ENSG00000002587.9_3',\n",
       "       'ENSG00000002746.14_3', 'ENSG00000002822.15_3', 'ENSG00000003096.14_4',\n",
       "       'ENSG00000003137.8_2',\n",
       "       ...\n",
       "       'ENSG00000285090.1_1', 'ENSG00000285095.1_1', 'ENSG00000285283.1_1',\n",
       "       'ENSG00000285382.1_1', 'ENSG00000285404.1_1', 'ENSG00000285446.1_1',\n",
       "       'ENSG00000285454.1_1', 'ENSG00000285467.1_1', 'ENSG00000285476.1_1',\n",
       "       'ENSG00000285509.1_1'],\n",
       "      dtype='object', name='gene', length=5107)"
      ]
     },
     "execution_count": 9,
     "metadata": {},
     "output_type": "execute_result"
    }
   ],
   "source": [
    "use_genes = use_genes & rna_adata.var_names & mc_adata.var_names\n",
    "use_genes"
   ]
  },
  {
   "cell_type": "code",
   "execution_count": 15,
   "metadata": {
    "ExecuteTime": {
     "end_time": "2021-02-14T22:15:16.454617Z",
     "start_time": "2021-02-14T22:15:15.571647Z"
    }
   },
   "outputs": [],
   "source": [
    "rna_adata = rna_adata[:, use_genes].copy()\n",
    "csr_x = ss.csr_matrix(rna_adata.X)\n",
    "with h5py.File('rna.h5', 'w') as f:\n",
    "    f['matrix/barcodes'] = rna_adata.obs_names.values\n",
    "    f['matrix/data'] = csr_x.data\n",
    "    f['matrix/indices'] = csr_x.indices\n",
    "    f['matrix/indptr'] = csr_x.indptr\n",
    "    f['matrix/features/name'] = rna_adata.var_names.values"
   ]
  },
  {
   "cell_type": "code",
   "execution_count": 16,
   "metadata": {
    "ExecuteTime": {
     "end_time": "2021-02-14T22:15:17.986878Z",
     "start_time": "2021-02-14T22:15:16.455852Z"
    }
   },
   "outputs": [],
   "source": [
    "mc_adata = mc_adata[:, use_genes].copy()\n",
    "mc_adata.X = mc_adata.X.max() - mc_adata.X\n",
    "\n",
    "csr_x = ss.csr_matrix(mc_adata.X)\n",
    "with h5py.File('mch.h5', 'w') as f:\n",
    "    f['matrix/barcodes'] = mc_adata.obs_names.values\n",
    "    f['matrix/data'] = csr_x.data\n",
    "    f['matrix/indices'] = csr_x.indices\n",
    "    f['matrix/indptr'] = csr_x.indptr\n",
    "    f['matrix/features/name'] = mc_adata.var_names.values"
   ]
  },
  {
   "cell_type": "code",
   "execution_count": null,
   "metadata": {},
   "outputs": [],
   "source": []
  },
  {
   "cell_type": "code",
   "execution_count": null,
   "metadata": {},
   "outputs": [],
   "source": []
  }
 ],
 "metadata": {
  "hide_input": false,
  "kernelspec": {
   "display_name": "Python 3",
   "language": "python",
   "name": "python3"
  },
  "language_info": {
   "codemirror_mode": {
    "name": "ipython",
    "version": 3
   },
   "file_extension": ".py",
   "mimetype": "text/x-python",
   "name": "python",
   "nbconvert_exporter": "python",
   "pygments_lexer": "ipython3",
   "version": "3.8.6"
  },
  "toc": {
   "base_numbering": 1,
   "nav_menu": {},
   "number_sections": true,
   "sideBar": true,
   "skip_h1_title": true,
   "title_cell": "Table of Contents",
   "title_sidebar": "Contents",
   "toc_cell": false,
   "toc_position": {},
   "toc_section_display": true,
   "toc_window_display": true
  }
 },
 "nbformat": 4,
 "nbformat_minor": 4
}
